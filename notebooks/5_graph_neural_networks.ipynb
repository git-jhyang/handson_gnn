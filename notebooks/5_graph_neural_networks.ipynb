{
 "cells": [
  {
   "cell_type": "code",
   "execution_count": null,
   "metadata": {},
   "outputs": [],
   "source": [
    "from mendeleev.fetch import fetch_table\n",
    "import numpy as np\n",
    "\n",
    "\n",
    "periodic_table = fetch_table('elements')\n",
    "feats = ['atomic_number', 'atomic_radius', 'atomic_volume', 'group_id', 'period', 'en_pauling']\n",
    "atom_feat_table = periodic_table[feats].values\n",
    "\n"
   ]
  },
  {
   "cell_type": "code",
   "execution_count": null,
   "metadata": {},
   "outputs": [],
   "source": [
    "def strucutre_to_graph(structure, r=3):\n",
    "    neighbors = structure.get_all_neighbors(r=r)\n",
    "    pairs = []\n",
    "    atoms = []\n",
    "    edge_index = []\n",
    "    edge_attr = []\n",
    "    for i, nns in enumerate(neighbors):\n",
    "        atoms.append(structure[i].specie.number - 1)\n",
    "        for n in nns:\n",
    "            pair = (i, n.index, f'{n.nn_distance:.8f}')\n",
    "            if pair not in pairs:\n",
    "                pairs.append(pair)\n",
    "                edge_index.append(pair[:2])\n",
    "                edge_attr.append(float(pair[2]))\n",
    "    x = atom_feat_table[atoms]\n",
    "    return {'x':x, 'edge_index':np.array(edge_index), 'edge_attr':np.array(edge_attr)}"
   ]
  },
  {
   "cell_type": "markdown",
   "metadata": {},
   "source": [
    "## CGConv"
   ]
  }
 ],
 "metadata": {
  "language_info": {
   "name": "python"
  }
 },
 "nbformat": 4,
 "nbformat_minor": 2
}
