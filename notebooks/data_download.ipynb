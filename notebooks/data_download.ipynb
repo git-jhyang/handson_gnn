{
 "cells": [
  {
   "cell_type": "code",
   "execution_count": 1,
   "metadata": {},
   "outputs": [
    {
     "name": "stdout",
     "output_type": "stream",
     "text": [
      "No module named 'phonopy'\n",
      "No module named 'phonopy'\n"
     ]
    }
   ],
   "source": [
    "from mp_api.client import MPRester\n",
    "from monty.serialization import dumpfn, loadfn\n",
    "import json\n",
    "\n",
    "# API-Key는 Materials Project 가입 후 확인 가능\n",
    "# https://api.materialsproject.org/docs\n",
    "# 보안을 위해 파일에 저장 후 활용하며, 공개 repository에 업로드 되지 않도록 \n",
    "# .gitignore에 예외 처리 할 것.\n",
    "api_key = json.load(open('../.credential.json'))['api_key']"
   ]
  },
  {
   "cell_type": "markdown",
   "metadata": {},
   "source": [
    "- Li 및 O가 포함된 3원계 화합물 검색 후, ID, Bandgap, Formula를 받아옴"
   ]
  },
  {
   "cell_type": "code",
   "execution_count": 36,
   "metadata": {},
   "outputs": [
    {
     "data": {
      "application/vnd.jupyter.widget-view+json": {
       "model_id": "4961928da8bd4ee095ccb507522cfef0",
       "version_major": 2,
       "version_minor": 0
      },
      "text/plain": [
       "Retrieving MaterialsDoc documents:   0%|          | 0/2192 [00:00<?, ?it/s]"
      ]
     },
     "metadata": {},
     "output_type": "display_data"
    }
   ],
   "source": [
    "with MPRester(api_key) as mpr:\n",
    "    data = mpr.materials.search(\n",
    "            elements=[\"Li\", \"O\"], \n",
    "            fields=['material_id', 'band_gap', 'formula_pretty','structure'],\n",
    "            num_elements=3\n",
    "        )\n",
    "\n",
    "dumpfn(data, '../data/mp_Li_O_3ele.monty')"
   ]
  },
  {
   "cell_type": "code",
   "execution_count": 37,
   "metadata": {},
   "outputs": [
    {
     "name": "stdout",
     "output_type": "stream",
     "text": [
      "\u001b[4m\u001b[1mMPDataDoc<MaterialsDoc>\u001b[0;0m\u001b[0;0m\n",
      "\u001b[1mformula_pretty\u001b[0;0m='LiAlO3',\n",
      "\u001b[1mmaterial_id\u001b[0;0m=MPID(mp-1185313),\n",
      "\u001b[1mstructure\u001b[0;0m=Structure Summary\n",
      "Lattice\n",
      "    abc : 3.709189 3.709189 3.709189\n",
      " angles : 90.0 90.0 90.0\n",
      " volume : 51.03133026460131\n",
      "      A : 3.709189 0.0 0.0\n",
      "      B : 0.0 3.709189 0.0\n",
      "      C : 0.0 0.0 3.709189\n",
      "    pbc : True True True\n",
      "PeriodicSite: Li (0.0, 0.0, 0.0) [0.0, 0.0, 0.0]\n",
      "PeriodicSite: Al (1.855, 1.855, 1.855) [0.5, 0.5, 0.5]\n",
      "PeriodicSite: O (1.855, 1.855, 0.0) [0.5, 0.5, 0.0]\n",
      "PeriodicSite: O (1.855, 0.0, 1.855) [0.5, 0.0, 0.5]\n",
      "PeriodicSite: O (0.0, 1.855, 1.855) [0.0, 0.5, 0.5]\n",
      "\n",
      "\u001b[1mFields not requested:\u001b[0;0m\n",
      "['builder_meta', 'nsites', 'elements', 'nelements', 'composition', 'composition_reduced', 'formula_anonymous', 'chemsys', 'volume', 'density', 'density_atomic', 'symmetry', 'deprecated', 'deprecation_reasons', 'initial_structures', 'task_ids', 'deprecated_tasks', 'calc_types', 'last_updated', 'created_at', 'origins', 'warnings', 'task_types', 'run_types', 'entries']\n"
     ]
    }
   ],
   "source": [
    "print(data[0])"
   ]
  },
  {
   "cell_type": "code",
   "execution_count": 42,
   "metadata": {},
   "outputs": [],
   "source": [
    "data = loadfn('../data/mp_Li_O_3ele.monty')"
   ]
  }
 ],
 "metadata": {
  "kernelspec": {
   "display_name": "gnn",
   "language": "python",
   "name": "python3"
  },
  "language_info": {
   "codemirror_mode": {
    "name": "ipython",
    "version": 3
   },
   "file_extension": ".py",
   "mimetype": "text/x-python",
   "name": "python",
   "nbconvert_exporter": "python",
   "pygments_lexer": "ipython3",
   "version": "3.9.18"
  }
 },
 "nbformat": 4,
 "nbformat_minor": 2
}
