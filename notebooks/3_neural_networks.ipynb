{
 "cells": [
  {
   "cell_type": "markdown",
   "metadata": {},
   "source": [
    "# Neural networks"
   ]
  },
  {
   "cell_type": "code",
   "execution_count": 18,
   "metadata": {},
   "outputs": [],
   "source": [
    "import gzip, pickle, time, torch, os, sys\n",
    "from torch import nn\n",
    "from torch.utils.data import DataLoader, Dataset\n",
    "import numpy as np"
   ]
  },
  {
   "cell_type": "markdown",
   "metadata": {},
   "source": [
    "- 간단한 Fully-connected neural network 정의"
   ]
  },
  {
   "cell_type": "code",
   "execution_count": 28,
   "metadata": {},
   "outputs": [],
   "source": [
    "class FCNN(nn.Module):\n",
    "    def __init__(self, \n",
    "                 num_feat,\n",
    "                 num_output,\n",
    "                 num_node = 32,\n",
    "                 num_layer = 4,\n",
    "                 dropout_rate = 0,\n",
    "                 batch_norm = False,\n",
    "        ):\n",
    "        # nn.Module 초기화\n",
    "        super(FCNN, self).__init__()\n",
    "        \n",
    "        # embedding layer 정의\n",
    "        self.embed = nn.Sequential(\n",
    "            nn.Linear(num_feat, num_node), # Linear layer\n",
    "            nn.ReLU(), # activation function\n",
    "        )\n",
    "        \n",
    "        # hidden layer 정의\n",
    "        self.hidden = nn.ModuleList()\n",
    "        for _ in range(num_layer):\n",
    "            hidden_layer = [] # List 형태로 만든 후 순차적으로 layer 요소 추가\n",
    "            hidden_layer.append(nn.Linear(num_node, num_node)) \n",
    "            hidden_layer.append(nn.ReLU())\n",
    "\n",
    "            # Layer normalization, gradient가 발산/수렴하는 것을 방지해서 훈련 효율을 높임\n",
    "            # 둘 중 하나만 사용하면 됨\n",
    "            if dropout_rate != 0: # Dropout 정의\n",
    "                hidden_layer.append(nn.Dropout(dropout_rate))\n",
    "            if batch_norm: # batch normalization 정의\n",
    "                hidden_layer.append(nn.BatchNorm1d(num_node))\n",
    "            self.hidden.append(nn.Sequential(*hidden_layer))\n",
    "\n",
    "        self.output = nn.Linear(num_node, num_output)\n",
    "    \n",
    "    def forward(self, x):\n",
    "        h = self.embed(x)\n",
    "        for layer in self.hidden:\n",
    "            h = layer(h)\n",
    "        out = self.output(h)\n",
    "        return out"
   ]
  },
  {
   "cell_type": "code",
   "execution_count": 44,
   "metadata": {},
   "outputs": [],
   "source": [
    "model = FCNN(5, 1, batch_norm=True)\n"
   ]
  },
  {
   "cell_type": "code",
   "execution_count": 8,
   "metadata": {},
   "outputs": [
    {
     "data": {
      "text/plain": [
       "Sequential(\n",
       "  (0): Linear(in_features=5, out_features=4, bias=True)\n",
       ")"
      ]
     },
     "execution_count": 8,
     "metadata": {},
     "output_type": "execute_result"
    }
   ],
   "source": [
    "nn.Sequential(nn.Linear(5, 4))"
   ]
  }
 ],
 "metadata": {
  "kernelspec": {
   "display_name": "gnn",
   "language": "python",
   "name": "python3"
  },
  "language_info": {
   "codemirror_mode": {
    "name": "ipython",
    "version": 3
   },
   "file_extension": ".py",
   "mimetype": "text/x-python",
   "name": "python",
   "nbconvert_exporter": "python",
   "pygments_lexer": "ipython3",
   "version": "3.9.18"
  }
 },
 "nbformat": 4,
 "nbformat_minor": 2
}
